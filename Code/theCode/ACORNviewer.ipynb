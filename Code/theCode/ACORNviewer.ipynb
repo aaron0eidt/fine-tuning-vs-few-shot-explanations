{
 "cells": [
  {
   "cell_type": "code",
   "execution_count": 2,
   "metadata": {},
   "outputs": [
    {
     "name": "stdout",
     "output_type": "stream",
     "text": [
      "Requirement already satisfied: pandas in c:\\users\\aaron\\miniconda3\\envs\\interdis\\lib\\site-packages (2.2.3)\n",
      "Requirement already satisfied: numpy>=1.26.0 in c:\\users\\aaron\\miniconda3\\envs\\interdis\\lib\\site-packages (from pandas) (2.2.2)\n",
      "Requirement already satisfied: python-dateutil>=2.8.2 in c:\\users\\aaron\\miniconda3\\envs\\interdis\\lib\\site-packages (from pandas) (2.9.0.post0)\n",
      "Requirement already satisfied: pytz>=2020.1 in c:\\users\\aaron\\miniconda3\\envs\\interdis\\lib\\site-packages (from pandas) (2024.1)\n",
      "Requirement already satisfied: tzdata>=2022.7 in c:\\users\\aaron\\miniconda3\\envs\\interdis\\lib\\site-packages (from pandas) (2024.2)\n",
      "Requirement already satisfied: six>=1.5 in c:\\users\\aaron\\miniconda3\\envs\\interdis\\lib\\site-packages (from python-dateutil>=2.8.2->pandas) (1.17.0)\n",
      "Note: you may need to restart the kernel to use updated packages.\n"
     ]
    },
    {
     "name": "stderr",
     "output_type": "stream",
     "text": [
      "DEPRECATION: Loading egg at c:\\users\\aaron\\miniconda3\\envs\\interdis\\lib\\site-packages\\huggingface_hub-0.27.1-py3.8.egg is deprecated. pip 25.1 will enforce this behaviour change. A possible replacement is to use pip for package installation. Discussion can be found at https://github.com/pypa/pip/issues/12330\n"
     ]
    }
   ],
   "source": [
    "pip install pandas\n"
   ]
  },
  {
   "cell_type": "code",
   "execution_count": 5,
   "metadata": {},
   "outputs": [
    {
     "data": {
      "text/html": [
       "<style>table {font-size: 30px !important;}</style>"
      ],
      "text/plain": [
       "<IPython.core.display.HTML object>"
      ]
     },
     "metadata": {},
     "output_type": "display_data"
    },
    {
     "data": {
      "text/html": [
       "<div>\n",
       "<style scoped>\n",
       "    .dataframe tbody tr th:only-of-type {\n",
       "        vertical-align: middle;\n",
       "    }\n",
       "\n",
       "    .dataframe tbody tr th {\n",
       "        vertical-align: top;\n",
       "    }\n",
       "\n",
       "    .dataframe thead th {\n",
       "        text-align: right;\n",
       "    }\n",
       "</style>\n",
       "<table border=\"1\" class=\"dataframe\">\n",
       "  <thead>\n",
       "    <tr style=\"text-align: right;\">\n",
       "      <th></th>\n",
       "      <th>id</th>\n",
       "      <th>q_id</th>\n",
       "      <th>q_source</th>\n",
       "      <th>question</th>\n",
       "      <th>choices</th>\n",
       "      <th>label</th>\n",
       "      <th>e_id</th>\n",
       "      <th>explanation</th>\n",
       "      <th>triples</th>\n",
       "      <th>positives</th>\n",
       "      <th>negatives</th>\n",
       "      <th>e_source</th>\n",
       "      <th>voted_ratings</th>\n",
       "      <th>worker_ratings</th>\n",
       "    </tr>\n",
       "  </thead>\n",
       "  <tbody>\n",
       "    <tr>\n",
       "      <th>0</th>\n",
       "      <td>test_0000</td>\n",
       "      <td>52cbc5edef2b14e075a60fdf2e...</td>\n",
       "      <td>CommonsenseQA</td>\n",
       "      <td>John is an omnidiciplinari...</td>\n",
       "      <td>[ocean, working hard, vari...</td>\n",
       "      <td>2</td>\n",
       "      <td>52cbc5edef2b14e075a60fdf2e...</td>\n",
       "      <td>prefix denotes all</td>\n",
       "      <td>None</td>\n",
       "      <td>None</td>\n",
       "      <td>None</td>\n",
       "      <td>CoS-E</td>\n",
       "      <td>{'supports': 2, 'overall':...</td>\n",
       "      <td>{'worker_1': {'overall': 1...</td>\n",
       "    </tr>\n",
       "  </tbody>\n",
       "</table>\n",
       "</div>"
      ],
      "text/plain": [
       "          id                           q_id       q_source                       question                        choices  label                           e_id         explanation triples positives negatives e_source                  voted_ratings                 worker_ratings\n",
       "0  test_0000  52cbc5edef2b14e075a60fdf2e...  CommonsenseQA  John is an omnidiciplinari...  [ocean, working hard, vari...      2  52cbc5edef2b14e075a60fdf2e...  prefix denotes all    None      None      None    CoS-E  {'supports': 2, 'overall':...  {'worker_1': {'overall': 1..."
      ]
     },
     "metadata": {},
     "output_type": "display_data"
    }
   ],
   "source": [
    "import pandas as pd\n",
    "from IPython.display import display, HTML\n",
    "\n",
    "# Set display options\n",
    "pd.set_option('display.max_columns', None)  # Show all columns\n",
    "pd.set_option('display.max_colwidth', 30)   # Truncate long columns\n",
    "pd.set_option('display.width', 1000)        # Set display width\n",
    "\n",
    "# Load JSONL file\n",
    "file_path = \"./ACORN.jsonl\"  # Change this to your actual file path\n",
    "df = pd.read_json(file_path, lines=True)\n",
    "\n",
    "# Display with larger font size\n",
    "display(HTML(\"<style>table {font-size: 30px !important;}</style>\"))\n",
    "display(df.head(1))"
   ]
  }
 ],
 "metadata": {
  "kernelspec": {
   "display_name": "INTERDIS",
   "language": "python",
   "name": "python3"
  },
  "language_info": {
   "codemirror_mode": {
    "name": "ipython",
    "version": 3
   },
   "file_extension": ".py",
   "mimetype": "text/x-python",
   "name": "python",
   "nbconvert_exporter": "python",
   "pygments_lexer": "ipython3",
   "version": "3.13.1"
  }
 },
 "nbformat": 4,
 "nbformat_minor": 2
}
